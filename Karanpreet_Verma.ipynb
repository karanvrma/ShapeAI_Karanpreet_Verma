{
  "nbformat": 4,
  "nbformat_minor": 0,
  "metadata": {
    "colab": {
      "name": "Karanpreet_Verma.ipynb",
      "provenance": []
    },
    "kernelspec": {
      "name": "python3",
      "display_name": "Python 3"
    },
    "language_info": {
      "name": "python"
    }
  },
  "cells": [
    {
      "cell_type": "markdown",
      "metadata": {
        "id": "ay45CHjI9LrQ"
      },
      "source": [
        "#Importing the dataset from keras..."
      ]
    },
    {
      "cell_type": "code",
      "metadata": {
        "id": "2-xB6ILDC4Jc"
      },
      "source": [
        "from keras.datasets import mnist\n",
        "\n",
        "#loading the data\n",
        "data = mnist.load_data()\n"
      ],
      "execution_count": 24,
      "outputs": []
    },
    {
      "cell_type": "markdown",
      "metadata": {
        "id": "YqB920TV9vcA"
      },
      "source": [
        "#Splitting the data into train and test split\n"
      ]
    },
    {
      "cell_type": "code",
      "metadata": {
        "id": "Pm4LZwod9vp5"
      },
      "source": [
        "((X_train, y_train), (X_test, y_test)) = data"
      ],
      "execution_count": 25,
      "outputs": []
    },
    {
      "cell_type": "markdown",
      "metadata": {
        "id": "MKJS1cSgBawy"
      },
      "source": [
        "#shape of the training data"
      ]
    },
    {
      "cell_type": "code",
      "metadata": {
        "colab": {
          "base_uri": "https://localhost:8080/"
        },
        "id": "RevOcorxBbAr",
        "outputId": "6ed11705-37d6-40b9-a642-bbd9a08f1c58"
      },
      "source": [
        "X_train[0].shape"
      ],
      "execution_count": 26,
      "outputs": [
        {
          "output_type": "execute_result",
          "data": {
            "text/plain": [
              "(28, 28)"
            ]
          },
          "metadata": {
            "tags": []
          },
          "execution_count": 26
        }
      ]
    },
    {
      "cell_type": "markdown",
      "metadata": {
        "id": "RSLcSDBkGAkr"
      },
      "source": [
        "#reshape the training data"
      ]
    },
    {
      "cell_type": "code",
      "metadata": {
        "id": "M2d1spFfGA32"
      },
      "source": [
        "X_train = X_train.reshape((X_train.shape[0], 28*28)).astype('float32')\n",
        "X_test = X_test.reshape((X_test.shape[0],28*28)).astype('float32')\n"
      ],
      "execution_count": 27,
      "outputs": []
    },
    {
      "cell_type": "markdown",
      "metadata": {
        "id": "Tc63ijloMMpV"
      },
      "source": [
        "#Normalizing  values from 0-255 to 0-1"
      ]
    },
    {
      "cell_type": "code",
      "metadata": {
        "id": "k_57BvGlMM15"
      },
      "source": [
        "X_train = X_train / 255\n",
        "X_test = X_test / 255"
      ],
      "execution_count": 28,
      "outputs": []
    },
    {
      "cell_type": "markdown",
      "metadata": {
        "id": "ezHE7zANN3CL"
      },
      "source": [
        "#Importing the np_utils module from keras.utils"
      ]
    },
    {
      "cell_type": "code",
      "metadata": {
        "colab": {
          "base_uri": "https://localhost:8080/"
        },
        "id": "ewJ6YsMqN3O6",
        "outputId": "5c18448b-42bf-4c0a-910b-6e376c44c90a"
      },
      "source": [
        "from keras.utils import np_utils\n",
        "\n",
        "print(y_test.shape)\n",
        "\n",
        "y_train = np_utils.to_categorical(y_train)\n",
        "y_test = np_utils.to_categorical(y_test)\n",
        "\n",
        "num_classes = y_test.shape[1]\n",
        "print(num_classes)"
      ],
      "execution_count": 29,
      "outputs": [
        {
          "output_type": "stream",
          "text": [
            "(10000,)\n",
            "10\n"
          ],
          "name": "stdout"
        }
      ]
    },
    {
      "cell_type": "markdown",
      "metadata": {
        "id": "cGkDb1syQmti"
      },
      "source": [
        "#importing more modules from keras"
      ]
    },
    {
      "cell_type": "code",
      "metadata": {
        "id": "hfq6c52tQm5S"
      },
      "source": [
        "from keras.models import Sequential\n",
        "from keras.layers import Dense"
      ],
      "execution_count": 30,
      "outputs": []
    },
    {
      "cell_type": "code",
      "metadata": {
        "id": "gBV0HHE0RzCo"
      },
      "source": [
        "#defining the model\n",
        "model = Sequential()\n",
        "\n",
        "#add first hidden layer with 32 neurons\n",
        "model.add(Dense(32, input_dim = 28*28,activation = 'relu'))\n",
        "\n",
        "#add second hidden layer with 64 neurons\n",
        "model.add(Dense(64, activation = 'relu'))\n",
        "\n",
        "#add output layer having 10 neurons(since there are 10 classes/categories)\n",
        "model.add(Dense(10, activation = 'softmax'))\n",
        "\n",
        "\n"
      ],
      "execution_count": 31,
      "outputs": []
    },
    {
      "cell_type": "code",
      "metadata": {
        "id": "LKoIpV73UYbC"
      },
      "source": [
        "#compile model \n",
        "model.compile(loss='categorical_crossentropy', optimizer = 'adam', metrics = ['accuracy'])"
      ],
      "execution_count": 32,
      "outputs": []
    },
    {
      "cell_type": "code",
      "metadata": {
        "colab": {
          "base_uri": "https://localhost:8080/"
        },
        "id": "IXAOIggqUIVm",
        "outputId": "e130e9c9-49d6-4f41-d710-937bd0550f4a"
      },
      "source": [
        "#print model summary\n",
        "model.summary()\n"
      ],
      "execution_count": 33,
      "outputs": [
        {
          "output_type": "stream",
          "text": [
            "Model: \"sequential_2\"\n",
            "_________________________________________________________________\n",
            "Layer (type)                 Output Shape              Param #   \n",
            "=================================================================\n",
            "dense_5 (Dense)              (None, 32)                25120     \n",
            "_________________________________________________________________\n",
            "dense_6 (Dense)              (None, 64)                2112      \n",
            "_________________________________________________________________\n",
            "dense_7 (Dense)              (None, 10)                650       \n",
            "=================================================================\n",
            "Total params: 27,882\n",
            "Trainable params: 27,882\n",
            "Non-trainable params: 0\n",
            "_________________________________________________________________\n"
          ],
          "name": "stdout"
        }
      ]
    },
    {
      "cell_type": "code",
      "metadata": {
        "colab": {
          "base_uri": "https://localhost:8080/"
        },
        "id": "fE6v47IYV667",
        "outputId": "4319f50c-298f-4eb8-ebef-b7fda5095684"
      },
      "source": [
        "#train the model \n",
        "model.fit(X_train, y_train, epochs = 10, batch_size = 100)"
      ],
      "execution_count": 34,
      "outputs": [
        {
          "output_type": "stream",
          "text": [
            "Epoch 1/10\n",
            "600/600 [==============================] - 2s 2ms/step - loss: 0.7513 - accuracy: 0.7855\n",
            "Epoch 2/10\n",
            "600/600 [==============================] - 1s 2ms/step - loss: 0.2008 - accuracy: 0.9422\n",
            "Epoch 3/10\n",
            "600/600 [==============================] - 1s 2ms/step - loss: 0.1459 - accuracy: 0.9580\n",
            "Epoch 4/10\n",
            "600/600 [==============================] - 1s 2ms/step - loss: 0.1190 - accuracy: 0.9635\n",
            "Epoch 5/10\n",
            "600/600 [==============================] - 1s 2ms/step - loss: 0.1049 - accuracy: 0.9684\n",
            "Epoch 6/10\n",
            "600/600 [==============================] - 1s 2ms/step - loss: 0.0892 - accuracy: 0.9731\n",
            "Epoch 7/10\n",
            "600/600 [==============================] - 1s 2ms/step - loss: 0.0793 - accuracy: 0.9760\n",
            "Epoch 8/10\n",
            "600/600 [==============================] - 1s 2ms/step - loss: 0.0693 - accuracy: 0.9787\n",
            "Epoch 9/10\n",
            "600/600 [==============================] - 1s 2ms/step - loss: 0.0626 - accuracy: 0.9813\n",
            "Epoch 10/10\n",
            "600/600 [==============================] - 1s 2ms/step - loss: 0.0559 - accuracy: 0.9830\n"
          ],
          "name": "stdout"
        },
        {
          "output_type": "execute_result",
          "data": {
            "text/plain": [
              "<tensorflow.python.keras.callbacks.History at 0x7f320508d710>"
            ]
          },
          "metadata": {
            "tags": []
          },
          "execution_count": 34
        }
      ]
    },
    {
      "cell_type": "markdown",
      "metadata": {
        "id": "Tk1PsKFiXTLw"
      },
      "source": [
        "#checking the model performance "
      ]
    },
    {
      "cell_type": "code",
      "metadata": {
        "colab": {
          "base_uri": "https://localhost:8080/"
        },
        "id": "NBsYcswsXTWs",
        "outputId": "6511f029-4a64-4aca-a3a2-a70c2cad079d"
      },
      "source": [
        "scores = model.evaluate(X_test, y_test)\n",
        "print(scores) #returns loss & accuracy"
      ],
      "execution_count": 35,
      "outputs": [
        {
          "output_type": "stream",
          "text": [
            "313/313 [==============================] - 0s 996us/step - loss: 0.0994 - accuracy: 0.9697\n",
            "[0.09942573308944702, 0.9696999788284302]\n"
          ],
          "name": "stdout"
        }
      ]
    }
  ]
}